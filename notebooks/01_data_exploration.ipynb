{
 "cells": [
  {
   "cell_type": "markdown",
   "metadata": {},
   "source": [
    "# 01. Data Exploration\n",
    "\n",
    "Initial exploration of the Gas Sensor Array Drift Dataset to understand:\n",
    "- Dataset structure and dimensions\n",
    "- Temporal distribution of batches\n",
    "- Chemical compound distribution\n",
    "- Sensor response patterns\n",
    "- Missing values and data quality"
   ]
  },
  {
   "cell_type": "code",
   "execution_count": null,
   "metadata": {},
   "outputs": [],
   "source": [
    "import numpy as np\n",
    "import pandas as pd\n",
    "import matplotlib.pyplot as plt\n",
    "import seaborn as sns\n",
    "from pathlib import Path\n",
    "import warnings\n",
    "warnings.filterwarnings('ignore')\n",
    "\n",
    "# Set plotting style\n",
    "sns.set_style('whitegrid')\n",
    "plt.rcParams['figure.figsize'] = (12, 8)\n",
    "plt.rcParams['font.size'] = 11"
   ]
  },
  {
   "cell_type": "markdown",
   "metadata": {},
   "source": [
    "## Load Dataset\n",
    "\n",
    "The Gas Sensor Array Drift Dataset contains:\n",
    "- 128 chemical sensors (metal oxide sensors)\n",
    "- 6 different gas types\n",
    "- 5 batches collected over 36 months"
   ]
  },
  {
   "cell_type": "code",
   "execution_count": null,
   "metadata": {},
   "outputs": [],
   "source": [
    "# TODO: Update with actual data loading code once you have the dataset\n",
    "# The dataset can be downloaded from UCI Machine Learning Repository\n",
    "# https://archive.ics.uci.edu/ml/datasets/Gas+Sensor+Array+Drift+Dataset\n",
    "\n",
    "# Placeholder for data loading\n",
    "# df = pd.read_csv('../data/raw/sensor_data.csv')\n",
    "# print(f\"Dataset shape: {df.shape}\")\n",
    "# df.head()"
   ]
  },
  {
   "cell_type": "markdown",
   "metadata": {},
   "source": [
    "## Dataset Overview"
   ]
  },
  {
   "cell_type": "code",
   "execution_count": null,
   "metadata": {},
   "outputs": [],
   "source": [
    "# Basic dataset information\n",
    "# print(\"\\nDataset Info:\")\n",
    "# print(df.info())\n",
    "\n",
    "# print(\"\\nBasic Statistics:\")\n",
    "# print(df.describe())"
   ]
  },
  {
   "cell_type": "markdown",
   "metadata": {},
   "source": [
    "## Batch Distribution Over Time"
   ]
  },
  {
   "cell_type": "code",
   "execution_count": null,
   "metadata": {},
   "outputs": [],
   "source": [
    "# Analyze temporal distribution of batches\n",
    "# batch_counts = df.groupby('batch').size()\n",
    "\n",
    "# fig, (ax1, ax2) = plt.subplots(1, 2, figsize=(14, 5))\n",
    "\n",
    "# # Batch sizes\n",
    "# batch_counts.plot(kind='bar', ax=ax1)\n",
    "# ax1.set_title('Number of Samples per Batch')\n",
    "# ax1.set_xlabel('Batch ID')\n",
    "# ax1.set_ylabel('Number of Samples')\n",
    "\n",
    "# # Timeline\n",
    "# # Assuming batch numbers correspond to time periods\n",
    "# batch_timeline = pd.DataFrame({\n",
    "#     'batch': [1, 5, 10, 15, 20],\n",
    "#     'month': [0, 3, 12, 18, 24]\n",
    "# })\n",
    "# ax2.plot(batch_timeline['month'], batch_timeline['batch'], 'o-', markersize=10)\n",
    "# ax2.set_title('Batch Collection Timeline')\n",
    "# ax2.set_xlabel('Months from Start')\n",
    "# ax2.set_ylabel('Batch Number')\n",
    "# ax2.grid(True, alpha=0.3)\n",
    "\n",
    "# plt.tight_layout()\n",
    "# plt.show()"
   ]
  },
  {
   "cell_type": "markdown",
   "metadata": {},
   "source": [
    "## Chemical Compound Distribution"
   ]
  },
  {
   "cell_type": "code",
   "execution_count": null,
   "metadata": {},
   "outputs": [],
   "source": [
    "# Analyze distribution of chemical compounds\n",
    "# chemical_dist = df.groupby(['batch', 'chemical']).size().unstack(fill_value=0)\n",
    "\n",
    "# fig, ax = plt.subplots(figsize=(12, 6))\n",
    "# chemical_dist.plot(kind='bar', stacked=True, ax=ax)\n",
    "# ax.set_title('Chemical Distribution Across Batches')\n",
    "# ax.set_xlabel('Batch')\n",
    "# ax.set_ylabel('Number of Samples')\n",
    "# ax.legend(title='Chemical', bbox_to_anchor=(1.05, 1), loc='upper left')\n",
    "# plt.tight_layout()\n",
    "# plt.show()"
   ]
  },
  {
   "cell_type": "markdown",
   "metadata": {},
   "source": [
    "## Sensor Response Patterns"
   ]
  },
  {
   "cell_type": "code",
   "execution_count": null,
   "metadata": {},
   "outputs": [],
   "source": [
    "# Visualize sensor response patterns\n",
    "# sensor_cols = [col for col in df.columns if col.startswith('sensor_')]\n",
    "\n",
    "# # Sample mean responses for first 10 sensors\n",
    "# fig, axes = plt.subplots(2, 5, figsize=(15, 8))\n",
    "# axes = axes.flatten()\n",
    "\n",
    "# for i, sensor in enumerate(sensor_cols[:10]):\n",
    "#     df.groupby('chemical')[sensor].mean().plot(kind='bar', ax=axes[i])\n",
    "#     axes[i].set_title(f'{sensor}')\n",
    "#     axes[i].set_xlabel('')\n",
    "#     axes[i].tick_params(axis='x', rotation=45)\n",
    "\n",
    "# plt.suptitle('Mean Sensor Responses by Chemical (First 10 Sensors)', y=1.02)\n",
    "# plt.tight_layout()\n",
    "# plt.show()"
   ]
  },
  {
   "cell_type": "markdown",
   "metadata": {},
   "source": [
    "## Correlation Analysis"
   ]
  },
  {
   "cell_type": "code",
   "execution_count": null,
   "metadata": {},
   "outputs": [],
   "source": [
    "# Compute correlation matrix for sensors\n",
    "# sensor_corr = df[sensor_cols].corr()\n",
    "\n",
    "# fig, ax = plt.subplots(figsize=(12, 10))\n",
    "# sns.heatmap(sensor_corr[:20, :20], cmap='coolwarm', center=0,\n",
    "#             square=True, ax=ax, cbar_kws={'shrink': 0.8})\n",
    "# ax.set_title('Sensor Correlation Matrix (First 20 Sensors)')\n",
    "# plt.tight_layout()\n",
    "# plt.show()\n",
    "\n",
    "# print(f\"Mean correlation: {sensor_corr.values[np.triu_indices_from(sensor_corr.values, 1)].mean():.3f}\")\n",
    "# print(f\"Correlation range: [{sensor_corr.values.min():.3f}, {sensor_corr.values.max():.3f}]\")"
   ]
  },
  {
   "cell_type": "markdown",
   "metadata": {},
   "source": [
    "## Missing Values Analysis"
   ]
  },
  {
   "cell_type": "code",
   "execution_count": null,
   "metadata": {},
   "outputs": [],
   "source": [
    "# Check for missing values\n",
    "# missing = df.isnull().sum()\n",
    "# if missing.any():\n",
    "#     print(\"Missing values per column:\")\n",
    "#     print(missing[missing > 0].sort_values(ascending=False))\n",
    "#     \n",
    "#     # Visualize missing pattern\n",
    "#     fig, ax = plt.subplots(figsize=(12, 6))\n",
    "#     sns.heatmap(df.isnull(), cbar=True, yticklabels=False, ax=ax)\n",
    "#     ax.set_title('Missing Value Pattern')\n",
    "#     plt.show()\n",
    "# else:\n",
    "#     print(\"No missing values found in the dataset!\")"
   ]
  },
  {
   "cell_type": "markdown",
   "metadata": {},
   "source": [
    "## Initial Drift Visualization"
   ]
  },
  {
   "cell_type": "code",
   "execution_count": null,
   "metadata": {},
   "outputs": [],
   "source": [
    "# Visualize drift for a specific sensor across batches\n",
    "# fig, axes = plt.subplots(1, 3, figsize=(15, 5))\n",
    "\n",
    "# for i, sensor in enumerate(sensor_cols[:3]):\n",
    "#     for batch in df['batch'].unique():\n",
    "#         batch_data = df[df['batch'] == batch][sensor]\n",
    "#         axes[i].hist(batch_data, alpha=0.5, label=f'Batch {batch}', bins=30)\n",
    "#     \n",
    "#     axes[i].set_title(f'{sensor} Distribution Across Batches')\n",
    "#     axes[i].set_xlabel('Sensor Response')\n",
    "#     axes[i].set_ylabel('Frequency')\n",
    "#     axes[i].legend()\n",
    "\n",
    "# plt.suptitle('Sensor Drift Visualization', y=1.02)\n",
    "# plt.tight_layout()\n",
    "# plt.show()"
   ]
  },
  {
   "cell_type": "markdown",
   "metadata": {},
   "source": [
    "## Summary Statistics by Batch"
   ]
  },
  {
   "cell_type": "code",
   "execution_count": null,
   "metadata": {},
   "outputs": [],
   "source": [
    "# Compute summary statistics for each batch\n",
    "# for batch in sorted(df['batch'].unique()):\n",
    "#     batch_data = df[df['batch'] == batch]\n",
    "#     print(f\"\\nBatch {batch}:\")\n",
    "#     print(f\"  - Number of samples: {len(batch_data)}\")\n",
    "#     print(f\"  - Number of chemicals: {batch_data['chemical'].nunique()}\")\n",
    "#     print(f\"  - Mean sensor response: {batch_data[sensor_cols].mean().mean():.3f}\")\n",
    "#     print(f\"  - Std sensor response: {batch_data[sensor_cols].std().mean():.3f}\")"
   ]
  },
  {
   "cell_type": "markdown",
   "metadata": {},
   "source": [
    "## Key Observations\n",
    "\n",
    "Document your findings here:\n",
    "- Dataset dimensions and structure\n",
    "- Temporal distribution of batches\n",
    "- Evidence of sensor drift\n",
    "- Correlation patterns among sensors\n",
    "- Data quality issues (if any)"
   ]
  },
  {
   "cell_type": "code",
   "execution_count": null,
   "metadata": {},
   "outputs": [],
   "source": [
    "# Save processed data for next notebooks\n",
    "# df.to_csv('../data/processed/sensor_data_cleaned.csv', index=False)\n",
    "# print(\"Cleaned data saved to data/processed/\")"
   ]
  }
 ],
 "metadata": {
  "kernelspec": {
   "display_name": "Python 3",
   "language": "python",
   "name": "python3"
  },
  "language_info": {
   "codemirror_mode": {
    "name": "ipython",
    "version": 3
   },
   "file_extension": ".py",
   "mimetype": "text/x-python",
   "name": "python",
   "nbconvert_exporter": "python",
   "pygments_lexer": "ipython3",
   "version": "3.8.0"
  }
 },
 "nbformat": 4,
 "nbformat_minor": 4
}