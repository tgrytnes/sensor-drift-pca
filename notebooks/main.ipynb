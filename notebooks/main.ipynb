{
 "cells": [
  {
   "cell_type": "markdown",
   "id": "doc-title",
   "metadata": {
    "tags": [],
    "quarto": {
     "include": false
    }
   },
   "source": [
    "# Project Template: End-to-End AI/ML Pipeline\n",
    "\n"
   ]
  },
  {
   "cell_type": "code",
   "execution_count": null,
   "id": "006ab6a9",
   "metadata": {},
   "outputs": [],
   "source": [
    "import sys\n",
    "from pathlib import Path\n",
    "\n",
    "# Add the src directory to Python path for importing project modules\n",
    "sys.path.append(str(Path.cwd().parent / 'src'))"
   ]
  },
  {
   "cell_type": "markdown",
   "id": "project-introduction",
   "metadata": {},
   "source": [
    "\n",
    "## Project Introduction\n"
   ]
  },
  {
   "cell_type": "markdown",
   "id": "e99d33ae",
   "metadata": {},
   "source": [
    "- Objectives & Success Criteria: Define the problem, audience, constraints, and what \u201cgood\u201d looks like.\n",
    "- Metrics vs business KPIs; target thresholds; baseline to beat.\n",
    "- Assumptions & Scope: What\u2019s in/out, data coverage period, granularity, known limitations.\n",
    "\n",
    "_______\n",
    "\n",
    "- Goal: Describe the problem you are solving, who benefits, and how success is measured.\n",
    "- Scope: Outline the boundaries (what is in/out) and key assumptions.\n",
    "- KPIs & Metrics: Define primary metrics (e.g., accuracy, F1, AUC, MAPE) and business KPIs.\n",
    "- Risks & Constraints: Data availability/quality, latency/cost constraints, privacy/compliance.\n",
    "\n",
    "For example: \n",
    "- **Goal.** Train a **compact CycleGAN** that translates **photos \u2192 Monet style**, then generate a Kaggle\u2011ready submission (`images.zip`, 7,000\u201310,000 images @ 256\u00d7256).\n",
    "\n",
    "- **Deliverables**\n",
    "    - **Notebook (this file):** EDA \u2192 pipeline \u2192 model \u2192 training \u2192 generation \u2192 zip \u2192 discussion.\n",
    "    - **GitHub repo:** add this notebook + README + helper scripts.\n",
    "    - **Kaggle leaderboard screenshot:** after submitting `images.zip`.\n",
    "\n",
    "- **Why CycleGAN?** Unpaired image\u2011to\u2011image translation fits this task: we have Monet paintings and photos but no aligned pairs. We keep the implementation compact and trainable on a modest GPU.\n",
    "\n"
   ]
  },
  {
   "cell_type": "markdown",
   "id": "data-ingest",
   "metadata": {},
   "source": [
    "\n",
    "## Data Loading & Initial Inspection\n"
   ]
  },
  {
   "cell_type": "markdown",
   "id": "8004be9f",
   "metadata": {},
   "source": [
    "Data Card (short): Sources, ownership, update cadence, schema summary, PII/sensitive fields, licensing.\n",
    "\n",
    "_______\n",
    "\n",
    "\n",
    "Load data, take a sneek preview\n",
    "Tell about the data, for instance:\n",
    "\n",
    "To kick off our analysis, we\u2019ll load both the BBC News training set (with labels) and the test set (without labels), then merge them into one DataFrame. By combining all articles before any preprocessing, we guarantee that every document \u2014 whether destined for model fitting or held out for final scoring \u2014 passes through the exact same cleaning and feature-extraction pipeline. Because our core modeling (TF\u2013IDF vectorization + NMF topic extraction) is entirely unsupervised, it never \u201clooks at\u201d the test labels, so there\u2019s no risk of leaking label information. Instead, including test articles up front:\n",
    "\u2022\tEnsures Consistency: Every token is lowercased, stemmed, and filtered for stop-words in the same way, avoiding any inadvertent vocabulary gaps between train and test.\n",
    "\u2022\tBoosts Coverage: Rare words that appear only in test articles still become part of our TF\u2013IDF vocabulary and topic bases, making our latent factors richer and more robust.\n",
    "\n",
    "After cleaning and factorization, we\u2019ll split back into train/test for hyperparameter tuning (using only train labels) and a final, held-out evaluation on the test labels."
   ]
  },
  {
   "cell_type": "code",
   "execution_count": null,
   "id": "da0d804e",
   "metadata": {},
   "outputs": [],
   "source": [
    "import sys\n",
    "from pathlib import Path\n",
    "sys.path.append(str(Path.cwd() / \"src\"))\n",
    "\n",
    "import pandas as pd\n",
    "import matplotlib.pyplot as plt\n",
    "from IPython.display import display  # so display(...) works in both notebook & script\n",
    "\n",
    "from yourproj.ingest import load_prices, load_earnings\n",
    "from yourproj.preprocess import align_events\n",
    "from yourproj.labels import make_day_ahead_label\n",
    "from yourproj.features import build_structured_features\n",
    "\n",
    "RAW_PRICES = Path(\"data/raw/prices.csv\")\n",
    "RAW_EARNINGS = Path(\"data/raw/earnings.csv\")"
   ]
  },
  {
   "cell_type": "markdown",
   "id": "preprocess-feature-engineering",
   "metadata": {},
   "source": [
    "\n",
    "## Preprocess\n"
   ]
  },
  {
   "cell_type": "markdown",
   "id": "fb5324a7",
   "metadata": {},
   "source": [
    "### Data Cleaning"
   ]
  },
  {
   "cell_type": "markdown",
   "id": "21f8cc3b",
   "metadata": {},
   "source": [
    "Cleaning: Standardize types, handle missing values, de-duplication, scaling.\n",
    "\n",
    "What we did:\n",
    "1.\tRemoved duplicate articles to ensure each text sample is unique.\n",
    "2.\tDropped any rows with missing values to avoid errors downstream.\n",
    "3.\tApplied a text-cleaning pipeline to each article:\n",
    "\t\u2022\tConvert all characters to lowercase\n",
    "\t\u2022\tStrip out HTML tags and URLs\n",
    "\t\u2022\tRemove any non-alphabetic characters\n",
    "\t\u2022\tTokenize and filter out English stop-words\n",
    "\t\u2022\tStem each token using the Snowball stemmer\n",
    "\n",
    "Why we did it:\n",
    "Cleaning the raw text eliminates noise\u2014such as punctuation, numbers, markup, and extremely common words\u2014and reduces words to their root forms. This ensures that when we extract features (e.g. via TF\u2013IDF), the model trains on meaningful, standardized tokens rather than irrelevant or redundant strings."
   ]
  },
  {
   "cell_type": "markdown",
   "id": "57e34a3a",
   "metadata": {},
   "source": [
    "\n",
    "## Feature Engineering\n"
   ]
  },
  {
   "cell_type": "markdown",
   "id": "6f778b76",
   "metadata": {},
   "source": [
    "Transformations: Windowing, aggregations, joins, label construction.<br><br>\n",
    "Feature Catalog: Keep a short list of features with rationale and leakage checks."
   ]
  },
  {
   "cell_type": "markdown",
   "id": "6cfe2c8f",
   "metadata": {},
   "source": [
    "\n",
    "### Align + Label\n",
    "\n",
    "\n",
    "Aligning price and earnings data, then creating labels for model training\n"
   ]
  },
  {
   "cell_type": "code",
   "execution_count": null,
   "id": "ccff4e0a",
   "metadata": {},
   "outputs": [
    {
     "data": {
      "application/vnd.microsoft.datawrangler.viewer.v0+json": {
       "columns": [
        {
         "name": "index",
         "rawType": "int64",
         "type": "integer"
        },
        {
         "name": "ticker",
         "rawType": "object",
         "type": "string"
        },
        {
         "name": "announce_datetime",
         "rawType": "datetime64[ns]",
         "type": "datetime"
        },
        {
         "name": "bmo_amc",
         "rawType": "object",
         "type": "string"
        },
        {
         "name": "eps_actual",
         "rawType": "float64",
         "type": "float"
        },
        {
         "name": "eps_estimate",
         "rawType": "float64",
         "type": "float"
        },
        {
         "name": "t0_date",
         "rawType": "datetime64[ns]",
         "type": "datetime"
        },
        {
         "name": "close_t0",
         "rawType": "int64",
         "type": "integer"
        },
        {
         "name": "close_t1",
         "rawType": "float64",
         "type": "float"
        },
        {
         "name": "y_d1",
         "rawType": "Int64",
         "type": "integer"
        },
        {
         "name": "surprise",
         "rawType": "float64",
         "type": "float"
        }
       ],
       "ref": "7dc90390-0248-4b06-bf9a-a1ae49614af8",
       "rows": [
        [
         "0",
         "AAA",
         "2025-01-01 09:00:00",
         "BMO",
         "1.2",
         "1.0",
         "2025-01-01 00:00:00",
         "10",
         "11.0",
         "1",
         "0.19999999999999996"
        ],
        [
         "1",
         "AAA",
         "2025-01-03 09:00:00",
         "BMO",
         "0.9",
         "1.0",
         "2025-01-03 00:00:00",
         "12",
         "11.0",
         "0",
         "-0.09999999999999998"
        ],
        [
         "2",
         "AAA",
         "2025-01-06 09:00:00",
         "BMO",
         "1.1",
         "1.0",
         "2025-01-06 00:00:00",
         "11",
         "13.0",
         "1",
         "0.10000000000000009"
        ]
       ],
       "shape": {
        "columns": 10,
        "rows": 3
       }
      },
      "text/html": [
       "<div>\n",
       "<style scoped>\n",
       "    .dataframe tbody tr th:only-of-type {\n",
       "        vertical-align: middle;\n",
       "    }\n",
       "\n",
       "    .dataframe tbody tr th {\n",
       "        vertical-align: top;\n",
       "    }\n",
       "\n",
       "    .dataframe thead th {\n",
       "        text-align: right;\n",
       "    }\n",
       "</style>\n",
       "<table border=\"1\" class=\"dataframe\">\n",
       "  <thead>\n",
       "    <tr style=\"text-align: right;\">\n",
       "      <th></th>\n",
       "      <th>ticker</th>\n",
       "      <th>announce_datetime</th>\n",
       "      <th>bmo_amc</th>\n",
       "      <th>eps_actual</th>\n",
       "      <th>eps_estimate</th>\n",
       "      <th>t0_date</th>\n",
       "      <th>close_t0</th>\n",
       "      <th>close_t1</th>\n",
       "      <th>y_d1</th>\n",
       "      <th>surprise</th>\n",
       "    </tr>\n",
       "  </thead>\n",
       "  <tbody>\n",
       "    <tr>\n",
       "      <th>0</th>\n",
       "      <td>AAA</td>\n",
       "      <td>2025-01-01 09:00:00</td>\n",
       "      <td>BMO</td>\n",
       "      <td>1.2</td>\n",
       "      <td>1.0</td>\n",
       "      <td>2025-01-01</td>\n",
       "      <td>10</td>\n",
       "      <td>11.0</td>\n",
       "      <td>1</td>\n",
       "      <td>0.2</td>\n",
       "    </tr>\n",
       "    <tr>\n",
       "      <th>1</th>\n",
       "      <td>AAA</td>\n",
       "      <td>2025-01-03 09:00:00</td>\n",
       "      <td>BMO</td>\n",
       "      <td>0.9</td>\n",
       "      <td>1.0</td>\n",
       "      <td>2025-01-03</td>\n",
       "      <td>12</td>\n",
       "      <td>11.0</td>\n",
       "      <td>0</td>\n",
       "      <td>-0.1</td>\n",
       "    </tr>\n",
       "    <tr>\n",
       "      <th>2</th>\n",
       "      <td>AAA</td>\n",
       "      <td>2025-01-06 09:00:00</td>\n",
       "      <td>BMO</td>\n",
       "      <td>1.1</td>\n",
       "      <td>1.0</td>\n",
       "      <td>2025-01-06</td>\n",
       "      <td>11</td>\n",
       "      <td>13.0</td>\n",
       "      <td>1</td>\n",
       "      <td>0.1</td>\n",
       "    </tr>\n",
       "  </tbody>\n",
       "</table>\n",
       "</div>"
      ],
      "text/plain": [
       "  ticker   announce_datetime bmo_amc  eps_actual  eps_estimate    t0_date  \\\n",
       "0    AAA 2025-01-01 09:00:00     BMO         1.2           1.0 2025-01-01   \n",
       "1    AAA 2025-01-03 09:00:00     BMO         0.9           1.0 2025-01-03   \n",
       "2    AAA 2025-01-06 09:00:00     BMO         1.1           1.0 2025-01-06   \n",
       "\n",
       "   close_t0  close_t1  y_d1  surprise  \n",
       "0        10      11.0     1       0.2  \n",
       "1        12      11.0     0      -0.1  \n",
       "2        11      13.0     1       0.1  "
      ]
     },
     "metadata": {},
     "output_type": "display_data"
    },
    {
     "ename": "",
     "evalue": "",
     "output_type": "error",
     "traceback": [
      "\u001b[1;31mnotebook controller is DISPOSED. \n",
      "\u001b[1;31mView Jupyter <a href='command:jupyter.viewOutput'>log</a> for further details."
     ]
    },
    {
     "ename": "",
     "evalue": "",
     "output_type": "error",
     "traceback": [
      "\u001b[1;31mnotebook controller is DISPOSED. \n",
      "\u001b[1;31mView Jupyter <a href='command:jupyter.viewOutput'>log</a> for further details."
     ]
    }
   ],
   "source": [
    "events = align_events(prices, earnings)\n",
    "labeled = make_day_ahead_label(events)\n",
    "feats = build_structured_features(labeled)\n",
    "display(feats.head())"
   ]
  },
  {
   "cell_type": "code",
   "execution_count": null,
   "id": "42901c5b",
   "metadata": {},
   "outputs": [],
   "source": [
    "# Run preprocess + feature engineering to produce artifacts\n",
    "import sys\n",
    "from pathlib import Path\n",
    "sys.path.append(str(Path.cwd() / 'src'))\n",
    "from yourproj.preprocess import main as preprocess_main\n",
    "from yourproj.features import main as features_main\n",
    "CONFIG = 'configs/exp_baseline.yaml'\n",
    "preprocess_main(CONFIG)\n",
    "features_main(CONFIG)\n"
   ]
  },
  {
   "cell_type": "markdown",
   "id": "eda",
   "metadata": {},
   "source": [
    "\n",
    "## Exploratory Data Analysis\n"
   ]
  },
  {
   "cell_type": "markdown",
   "id": "9be074b9",
   "metadata": {},
   "source": [
    "  Use this section to explore distributions, correlations, seasonality, and sanity checks. Capture insights and hypotheses to guide modeling."
   ]
  },
  {
   "cell_type": "code",
   "execution_count": null,
   "id": "987c119a",
   "metadata": {},
   "outputs": [
    {
     "data": {
      "application/vnd.microsoft.datawrangler.viewer.v0+json": {
       "columns": [
        {
         "name": "index",
         "rawType": "int64",
         "type": "integer"
        },
        {
         "name": "ticker",
         "rawType": "object",
         "type": "string"
        },
        {
         "name": "date",
         "rawType": "datetime64[ns]",
         "type": "datetime"
        },
        {
         "name": "open",
         "rawType": "int64",
         "type": "integer"
        },
        {
         "name": "high",
         "rawType": "int64",
         "type": "integer"
        },
        {
         "name": "low",
         "rawType": "int64",
         "type": "integer"
        },
        {
         "name": "close",
         "rawType": "int64",
         "type": "integer"
        },
        {
         "name": "volume",
         "rawType": "int64",
         "type": "integer"
        }
       ],
       "ref": "d9c24bf0-f0f4-404c-a693-fd8fcb4bc8bf",
       "rows": [
        [
         "0",
         "AAA",
         "2025-01-01 00:00:00",
         "1",
         "1",
         "1",
         "10",
         "100"
        ],
        [
         "1",
         "AAA",
         "2025-01-02 00:00:00",
         "1",
         "1",
         "1",
         "11",
         "100"
        ],
        [
         "2",
         "AAA",
         "2025-01-03 00:00:00",
         "1",
         "1",
         "1",
         "12",
         "100"
        ],
        [
         "3",
         "AAA",
         "2025-01-06 00:00:00",
         "1",
         "1",
         "1",
         "11",
         "100"
        ],
        [
         "4",
         "AAA",
         "2025-01-07 00:00:00",
         "1",
         "1",
         "1",
         "13",
         "100"
        ]
       ],
       "shape": {
        "columns": 7,
        "rows": 5
       }
      },
      "text/html": [
       "<div>\n",
       "<style scoped>\n",
       "    .dataframe tbody tr th:only-of-type {\n",
       "        vertical-align: middle;\n",
       "    }\n",
       "\n",
       "    .dataframe tbody tr th {\n",
       "        vertical-align: top;\n",
       "    }\n",
       "\n",
       "    .dataframe thead th {\n",
       "        text-align: right;\n",
       "    }\n",
       "</style>\n",
       "<table border=\"1\" class=\"dataframe\">\n",
       "  <thead>\n",
       "    <tr style=\"text-align: right;\">\n",
       "      <th></th>\n",
       "      <th>ticker</th>\n",
       "      <th>date</th>\n",
       "      <th>open</th>\n",
       "      <th>high</th>\n",
       "      <th>low</th>\n",
       "      <th>close</th>\n",
       "      <th>volume</th>\n",
       "    </tr>\n",
       "  </thead>\n",
       "  <tbody>\n",
       "    <tr>\n",
       "      <th>0</th>\n",
       "      <td>AAA</td>\n",
       "      <td>2025-01-01</td>\n",
       "      <td>1</td>\n",
       "      <td>1</td>\n",
       "      <td>1</td>\n",
       "      <td>10</td>\n",
       "      <td>100</td>\n",
       "    </tr>\n",
       "    <tr>\n",
       "      <th>1</th>\n",
       "      <td>AAA</td>\n",
       "      <td>2025-01-02</td>\n",
       "      <td>1</td>\n",
       "      <td>1</td>\n",
       "      <td>1</td>\n",
       "      <td>11</td>\n",
       "      <td>100</td>\n",
       "    </tr>\n",
       "    <tr>\n",
       "      <th>2</th>\n",
       "      <td>AAA</td>\n",
       "      <td>2025-01-03</td>\n",
       "      <td>1</td>\n",
       "      <td>1</td>\n",
       "      <td>1</td>\n",
       "      <td>12</td>\n",
       "      <td>100</td>\n",
       "    </tr>\n",
       "    <tr>\n",
       "      <th>3</th>\n",
       "      <td>AAA</td>\n",
       "      <td>2025-01-06</td>\n",
       "      <td>1</td>\n",
       "      <td>1</td>\n",
       "      <td>1</td>\n",
       "      <td>11</td>\n",
       "      <td>100</td>\n",
       "    </tr>\n",
       "    <tr>\n",
       "      <th>4</th>\n",
       "      <td>AAA</td>\n",
       "      <td>2025-01-07</td>\n",
       "      <td>1</td>\n",
       "      <td>1</td>\n",
       "      <td>1</td>\n",
       "      <td>13</td>\n",
       "      <td>100</td>\n",
       "    </tr>\n",
       "  </tbody>\n",
       "</table>\n",
       "</div>"
      ],
      "text/plain": [
       "  ticker       date  open  high  low  close  volume\n",
       "0    AAA 2025-01-01     1     1    1     10     100\n",
       "1    AAA 2025-01-02     1     1    1     11     100\n",
       "2    AAA 2025-01-03     1     1    1     12     100\n",
       "3    AAA 2025-01-06     1     1    1     11     100\n",
       "4    AAA 2025-01-07     1     1    1     13     100"
      ]
     },
     "metadata": {},
     "output_type": "display_data"
    },
    {
     "data": {
      "application/vnd.microsoft.datawrangler.viewer.v0+json": {
       "columns": [
        {
         "name": "index",
         "rawType": "int64",
         "type": "integer"
        },
        {
         "name": "ticker",
         "rawType": "object",
         "type": "string"
        },
        {
         "name": "announce_datetime",
         "rawType": "datetime64[ns]",
         "type": "datetime"
        },
        {
         "name": "bmo_amc",
         "rawType": "object",
         "type": "string"
        },
        {
         "name": "eps_actual",
         "rawType": "float64",
         "type": "float"
        },
        {
         "name": "eps_estimate",
         "rawType": "float64",
         "type": "float"
        }
       ],
       "ref": "bfab5194-b914-46e5-9492-5f15dd32a2b2",
       "rows": [
        [
         "0",
         "AAA",
         "2025-01-01 09:00:00",
         "BMO",
         "1.2",
         "1.0"
        ],
        [
         "1",
         "AAA",
         "2025-01-03 09:00:00",
         "BMO",
         "0.9",
         "1.0"
        ],
        [
         "2",
         "AAA",
         "2025-01-06 09:00:00",
         "BMO",
         "1.1",
         "1.0"
        ]
       ],
       "shape": {
        "columns": 5,
        "rows": 3
       }
      },
      "text/html": [
       "<div>\n",
       "<style scoped>\n",
       "    .dataframe tbody tr th:only-of-type {\n",
       "        vertical-align: middle;\n",
       "    }\n",
       "\n",
       "    .dataframe tbody tr th {\n",
       "        vertical-align: top;\n",
       "    }\n",
       "\n",
       "    .dataframe thead th {\n",
       "        text-align: right;\n",
       "    }\n",
       "</style>\n",
       "<table border=\"1\" class=\"dataframe\">\n",
       "  <thead>\n",
       "    <tr style=\"text-align: right;\">\n",
       "      <th></th>\n",
       "      <th>ticker</th>\n",
       "      <th>announce_datetime</th>\n",
       "      <th>bmo_amc</th>\n",
       "      <th>eps_actual</th>\n",
       "      <th>eps_estimate</th>\n",
       "    </tr>\n",
       "  </thead>\n",
       "  <tbody>\n",
       "    <tr>\n",
       "      <th>0</th>\n",
       "      <td>AAA</td>\n",
       "      <td>2025-01-01 09:00:00</td>\n",
       "      <td>BMO</td>\n",
       "      <td>1.2</td>\n",
       "      <td>1.0</td>\n",
       "    </tr>\n",
       "    <tr>\n",
       "      <th>1</th>\n",
       "      <td>AAA</td>\n",
       "      <td>2025-01-03 09:00:00</td>\n",
       "      <td>BMO</td>\n",
       "      <td>0.9</td>\n",
       "      <td>1.0</td>\n",
       "    </tr>\n",
       "    <tr>\n",
       "      <th>2</th>\n",
       "      <td>AAA</td>\n",
       "      <td>2025-01-06 09:00:00</td>\n",
       "      <td>BMO</td>\n",
       "      <td>1.1</td>\n",
       "      <td>1.0</td>\n",
       "    </tr>\n",
       "  </tbody>\n",
       "</table>\n",
       "</div>"
      ],
      "text/plain": [
       "  ticker   announce_datetime bmo_amc  eps_actual  eps_estimate\n",
       "0    AAA 2025-01-01 09:00:00     BMO         1.2           1.0\n",
       "1    AAA 2025-01-03 09:00:00     BMO         0.9           1.0\n",
       "2    AAA 2025-01-06 09:00:00     BMO         1.1           1.0"
      ]
     },
     "metadata": {},
     "output_type": "display_data"
    },
    {
     "ename": "",
     "evalue": "",
     "output_type": "error",
     "traceback": [
      "\u001b[1;31mnotebook controller is DISPOSED. \n",
      "\u001b[1;31mView Jupyter <a href='command:jupyter.viewOutput'>log</a> for further details."
     ]
    },
    {
     "ename": "",
     "evalue": "",
     "output_type": "error",
     "traceback": [
      "\u001b[1;31mnotebook controller is DISPOSED. \n",
      "\u001b[1;31mView Jupyter <a href='command:jupyter.viewOutput'>log</a> for further details."
     ]
    }
   ],
   "source": [
    "prices = load_prices(RAW_PRICES)\n",
    "earnings = load_earnings(RAW_EARNINGS)\n",
    "display(prices.head())\n",
    "display(earnings.head())"
   ]
  },
  {
   "cell_type": "markdown",
   "id": "5e25cfc2",
   "metadata": {},
   "source": [
    "\n",
    "### Example Plot\n",
    "\n",
    "\n",
    "Visualization of earnings surprise distribution to understand data characteristics\n"
   ]
  },
  {
   "cell_type": "code",
   "execution_count": null,
   "id": "41ad3f62",
   "metadata": {},
   "outputs": [
    {
     "data": {
      "image/png": "[encoded data removed]",
      "text/plain": [
       "<Figure size 640x480 with 1 Axes>"
      ]
     },
     "metadata": {},
     "output_type": "display_data"
    },
    {
     "ename": "",
     "evalue": "",
     "output_type": "error",
     "traceback": [
      "\u001b[1;31mnotebook controller is DISPOSED. \n",
      "\u001b[1;31mView Jupyter <a href='command:jupyter.viewOutput'>log</a> for further details."
     ]
    },
    {
     "ename": "",
     "evalue": "",
     "output_type": "error",
     "traceback": [
      "\u001b[1;31mnotebook controller is DISPOSED. \n",
      "\u001b[1;31mView Jupyter <a href='command:jupyter.viewOutput'>log</a> for further details."
     ]
    }
   ],
   "source": [
    "Path(\"artifacts/figures\").mkdir(parents=True, exist_ok=True)\n",
    "if not feats.empty and \"surprise\" in feats:\n",
    "    ax = feats[\"surprise\"].hist(bins=30)\n",
    "    ax.set_title(\"Earnings Surprise Distribution\")\n",
    "    plt.tight_layout()\n",
    "    plt.savefig(\"artifacts/figures/surprise_dist.pdf\")\n",
    "    plt.show()"
   ]
  },
  {
   "cell_type": "markdown",
   "id": "models",
   "metadata": {},
   "source": [
    "\n",
    "## Models\n"
   ]
  },
  {
   "cell_type": "markdown",
   "id": "c5cefa91",
   "metadata": {},
   "source": [
    "- Baselines: Start with simple baselines (mean/last value, logistic/linear).\n",
    "- Candidates: Consider tree-based (RF/XGBoost), linear, neural, or specialized models.\n",
    "- Hyperparameters: Document search space and defaults.\n",
    "\n",
    "______\n",
    "\n",
    "- Experiment Plan: A compact matrix listing planned model families, key features, and parameters to try."
   ]
  },
  {
   "cell_type": "markdown",
   "id": "training",
   "metadata": {},
   "source": [
    "\n",
    "## Training\n"
   ]
  },
  {
   "cell_type": "markdown",
   "id": "ca333065",
   "metadata": {},
   "source": [
    "- Strategy: Train/validation/test split strategy, cross-validation, and seeds.\n",
    "- Reproducibility: Deterministic seeds, config files, and artifact logging.\n",
    "- Compute: Hardware, runtime, and cost notes.\n",
    "\n",
    "\n",
    "____\n",
    "- Split Strategy & Leakage: Explicitly state split logic (time-aware vs random), test size, and leakage mitigations.\n",
    "- Reproducibility Checklist: Config use, seeds, artifact locations, environment capture (Python + key pkg versions)."
   ]
  },
  {
   "cell_type": "code",
   "execution_count": null,
   "id": "run-train",
   "metadata": {},
   "outputs": [],
   "source": [
    "# Train model using generated features\n",
    "import sys\n",
    "from pathlib import Path\n",
    "sys.path.append(str(Path.cwd() / 'src'))\n",
    "from yourproj.train import main as train_main\n",
    "CONFIG = 'configs/exp_baseline.yaml'\n",
    "train_main(CONFIG)\n"
   ]
  },
  {
   "cell_type": "code",
   "execution_count": null,
   "id": "run-eval",
   "metadata": {},
   "outputs": [
    {
     "name": "stdout",
     "output_type": "stream",
     "text": [
      "Metrics: {'accuracy': 1.0, 'auc': None, 'features': ['surprise'], 'n_test': 1}\n",
      "Saved artifacts/figures/metrics.pdf\n"
     ]
    },
    {
     "data": {
      "image/png": "[encoded data removed]",
      "text/plain": [
       "<Figure size 640x480 with 1 Axes>"
      ]
     },
     "metadata": {},
     "output_type": "display_data"
    },
    {
     "ename": "",
     "evalue": "",
     "output_type": "error",
     "traceback": [
      "\u001b[1;31mnotebook controller is DISPOSED. \n",
      "\u001b[1;31mView Jupyter <a href='command:jupyter.viewOutput'>log</a> for further details."
     ]
    },
    {
     "ename": "",
     "evalue": "",
     "output_type": "error",
     "traceback": [
      "\u001b[1;31mnotebook controller is DISPOSED. \n",
      "\u001b[1;31mView Jupyter <a href='command:jupyter.viewOutput'>log</a> for further details."
     ]
    },
    {
     "ename": "",
     "evalue": "",
     "output_type": "error",
     "traceback": [
      "\u001b[1;31mnotebook controller is DISPOSED. \n",
      "\u001b[1;31mView Jupyter <a href='command:jupyter.viewOutput'>log</a> for further details."
     ]
    }
   ],
   "source": [
    "# Evaluate model and save simple plots\n",
    "import sys\n",
    "from pathlib import Path\n",
    "sys.path.append(str(Path.cwd() / 'src'))\n",
    "from yourproj.eval import main as eval_main\n",
    "CONFIG = 'configs/exp_baseline.yaml'\n",
    "eval_main(CONFIG)\n"
   ]
  },
  {
   "cell_type": "markdown",
   "id": "60c71df2",
   "metadata": {},
   "source": [
    "\n",
    "## Evaluation\n"
   ]
  },
  {
   "cell_type": "markdown",
   "id": "e2766c4a",
   "metadata": {},
   "source": [
    "- Metrics: Primary and secondary metrics; calibration and confidence intervals if applicable.\n",
    "- Error Analysis: Segment performance by cohort/time; investigate failure modes.\n",
    "- Reporting: Figures/tables for stakeholders and decision makers.\n",
    "\n",
    "____\n",
    "\n",
    "- Error Analysis Plan: Cohorts, time slices, and failure-mode checks (class imbalance, drift).\n",
    "- Decisions Log: A running list of major decisions with brief rationale (e.g., \u201cChose chrono split due to event causality\u201d)."
   ]
  },
  {
   "cell_type": "markdown",
   "id": "df76eec6",
   "metadata": {},
   "source": [
    "\n",
    "## Conclusion and Next Steps\n"
   ]
  },
  {
   "cell_type": "markdown",
   "id": "3297e51d",
   "metadata": {},
   "source": [
    "\n",
    "## Resources\n"
   ]
  },
  {
   "cell_type": "markdown",
   "id": "918875dc",
   "metadata": {},
   "source": [
    "- **TF\u2013IDF Vectorizer API**  \n",
    "  Official docs for TfidfVectorizer (parameters like ngram_range, min_df, max_features, etc.)  \n",
    "  https://scikit-learn.org/stable/modules/generated/sklearn.feature_extraction.text.TfidfVectorizer.html\n",
    "\n",
    "- **Text Analytics Tutorial**  \n",
    "  End-to-end guide: load raw text, vectorize with TF\u2013IDF, train a linear classifier  \n",
    "  https://scikit-learn.org/1.4/tutorial/text_analytics/working_with_text_data.html\n",
    "\n",
    "- **TF\u2013IDF Math & Intuition**  \n",
    "  Blog post with mathematical derivation, code examples, and visual intuition for term- and document-frequency weighting  \n",
    "  https://medium.com/@rohit_batra/multi-class-text-classification-with-scikit-learn-using-tf-idf-model-161d395ce374\n",
    "\n",
    "- **Logistic Regression API**  \n",
    "  Full parameter reference (`solver`, `C`, `penalty`, `class_weight`, etc.) including valid ranges and examples  \n",
    "  https://scikit-learn.org/stable/modules/generated/sklearn.linear_model.LogisticRegression.html"
   ]
  }
 ],
 "metadata": {
  "jupytext": {
   "cell_metadata_filter": "-all",
   "formats": "ipynb,py:percent",
   "main_language": "python"
  },
  "kernelspec": {
   "display_name": ".venv",
   "language": "python",
   "name": "python3"
  },
  "language_info": {
   "codemirror_mode": {
    "name": "ipython",
    "version": 3
   },
   "file_extension": ".py",
   "mimetype": "text/x-python",
   "name": "python",
   "nbconvert_exporter": "python",
   "pygments_lexer": "ipython3",
   "version": "3.13.7"
  }
 },
 "nbformat": 4,
 "nbformat_minor": 5
}