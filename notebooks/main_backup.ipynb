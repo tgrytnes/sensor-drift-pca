{
 "cells": [
  {
   "cell_type": "markdown",
   "metadata": {},
   "source": [
    "# Geometric Analysis of Sensor Drift\n",
    "\n",
    "## Project Introduction and Problem Description\n",
    "\n",
    "### Project Overview\n",
    "\n",
    "This project investigates the phenomenon of sensor drift in gas sensor arrays through the lens of **unsupervised learning**, specifically employing **Principal Component Analysis (PCA)** as the primary dimensionality reduction technique. The core challenge addresses how chemical sensor measurements, which exist in a 128-dimensional space, change their response patterns over time due to sensor aging and environmental factors—a critical problem in chemical detection systems that affects reliability and accuracy.\n",
    "\n",
    "The project reframes the traditional calibration problem as a geometric analysis task: understanding how the low-dimensional manifold occupied by chemical signatures transforms over time in high-dimensional measurement space. By applying PCA and related techniques, we aim to identify stable subspaces that remain invariant despite temporal drift, ultimately developing methods for drift correction and improved chemical classification.\n",
    "\n",
    "### Type of Learning and Task\n",
    "\n",
    "**Learning Paradigm:** Unsupervised Learning\n",
    "\n",
    "- No labeled drift patterns are provided; we discover structure from the data itself\n",
    "- Focus on understanding intrinsic data geometry and temporal evolution\n",
    "\n",
    "**Primary Algorithms:**\n",
    "\n",
    "- **Principal Component Analysis (PCA)**: For dimensionality reduction and identifying dominant variance directions\n",
    "- **Clustering algorithms** (K-means, hierarchical): For grouping chemical signatures\n",
    "- **Procrustes Analysis**: For geometric alignment and drift correction\n",
    "\n",
    "**Task Type:**\n",
    "\n",
    "- **Dimensionality Reduction**: Reducing 128-dimensional sensor readings to a manageable subspace\n",
    "- **Anomaly Detection**: Identifying drift patterns as deviations from expected behavior\n",
    "- **Pattern Recognition**: Discovering invariant features across temporal batches\n",
    "\n",
    "### Project Goals and Motivation\n",
    "\n",
    "**Primary Goal:** To develop a mathematical framework for understanding and correcting sensor drift through principal component analysis, achieving at least a 30% reduction in drift-induced classification errors.\n",
    "\n",
    "**Why This Matters:**\n",
    "\n",
    "1. **Industrial Relevance**: Gas sensor arrays are widely used in environmental monitoring, food quality control, and safety systems. Sensor drift causes frequent recalibration needs, increasing operational costs.\n",
    "\n",
    "2. **Scientific Innovation**: By treating drift as a geometric transformation in PC space rather than noise, we can develop more principled correction methods that preserve chemical signature integrity.\n",
    "\n",
    "3. **Practical Impact**: A successful drift correction method would extend sensor array lifetime, reduce maintenance requirements, and improve long-term reliability of chemical detection systems.\n",
    "\n",
    "**Specific Objectives:**\n",
    "\n",
    "- Prove that chemical signatures occupy a low-dimensional manifold (5-8 dimensions) within the 128-dimensional measurement space\n",
    "- Quantify the stability of different principal components over 36 months\n",
    "- Develop a mathematical model of drift as geometric transformations\n",
    "- Create a Procrustes-based correction algorithm achieving 67% reduction in drift effects\n",
    "- Validate improvements using multiple clustering quality metrics\n",
    "\n",
    "### Data Source and Citation\n",
    "\n",
    "**Dataset:** Gas Sensor Array Drift Dataset\n",
    "\n",
    "**Source:** UCI Machine Learning Repository\n",
    "\n",
    "**Full Citation:**\n",
    "Vergara, A., Vembu, S., Ayhan, T., Ryan, M. A., Homer, M. L., & Huerta, R. (2012). *Gas Sensor Array Drift Dataset*. UCI Machine Learning Repository. https://doi.org/10.24432/C5ZS4K\n",
    "\n",
    "**Data Description:**\n",
    "The dataset contains measurements from an array of 128 metal oxide gas sensors exposed to six different gaseous substances (Ethanol, Ethylene, Ammonia, Acetaldehyde, Acetone, and Toluene) at various concentrations. Data was collected over 36 months in five distinct batches (months 1, 5, 10, 15, and 20), capturing the natural drift phenomenon as sensors age. Each measurement consists of 128 features representing individual sensor responses, with approximately 13,910 total observations across all batches.\n",
    "\n",
    "**Data Collection Method:**\n",
    "Measurements were obtained in a controlled laboratory environment using a standardized gas delivery system. Each batch represents a different time point in the sensor array's lifetime, allowing us to study temporal drift patterns systematically.\n",
    "\n",
    "### Related Work and Novel Contributions\n",
    "@vergara2012chemical introduced the Gas Sensor Array Drift Dataset and \n",
    "focused on drift compensation for supervised classification tasks, employing \n",
    "ensemble methods to maintain gas identification accuracy despite sensor aging. \n",
    "Their work, along with subsequent studies (@rodriguez2014calibration), primarily addressed drift as a challenge for \n",
    "prediction accuracy rather than investigating the geometric properties of \n",
    "drift itself.\n",
    "\n",
    "This project diverges from existing supervised approaches by examining drift \n",
    "through an unsupervised, geometric lens. Specifically, we investigate which \n",
    "principal components of the 128-dimensional sensor space exhibit stability \n",
    "across time batches and characterize drift as manifold deformations in \n",
    "reduced-dimensional space. By computing angular distances between principal \n",
    "component vectors across different measurement campaigns, we develop stability \n",
    "rankings that identify drift-resistant subspaces—an analysis not present in \n",
    "prior work on this dataset."
   ]
  },
  {
   "cell_type": "markdown",
   "metadata": {},
   "source": [
    "## Data Loading & Inspection\n",
    "\n",
    "\n",
    "\n",
    "### Data Import Challenges\n",
    "\n",
    "The original dataset from UCI uses LibSVM sparse format, which required careful interpretation. Initially, we misidentified feature 1 (with values around 15,000-670,000) as concentration data, when it's actually ΔR₁ - the absolute resistance change in Ohms for the first sensor. The UCI documentation clarified that this is the **original dataset version without concentration values**. All 128 features represent sensor measurements: 16 chemical sensors × 8 features each (2 steady-state + 6 transient features). Understanding this structure was crucial for proper data processing and column naming (S{sensor}_F{feature}_{type} format).\n",
    "\n",
    "To handle this complex data conversion systematically, we created a dedicated processing script `src/sensor_drift/process_dat_to_csv.py` that converts the raw LibSVM format (.dat files) to a properly structured CSV with meaningful column names, without applying any data modifications.\n",
    "\n",
    "### Data Inspection\n",
    "\n",
    "In this section, we'll load the gas sensor drift dataset and perform some initial inspection of the data to understand its structure, size, and key characteristics."
   ]
  },
  {
   "cell_type": "code",
   "execution_count": 15,
   "metadata": {},
   "outputs": [
    {
     "name": "stdout",
     "output_type": "stream",
     "text": [
      "============================================================\n",
      "DATASET OVERVIEW\n",
      "============================================================\n",
      "Dataset shape: 13,910 rows × 131 columns\n",
      "\n",
      "Memory usage: 14.66 MB\n",
      "\n",
      "Data types distribution:\n",
      "  float64: 128 columns\n",
      "  int64: 2 columns\n",
      "  object: 1 columns\n",
      "\n",
      "Column categories:\n",
      "  Sensor features: 128 columns\n",
      "  Metadata columns: 3 columns\n",
      "  Metadata column names: ['gas_type', 'gas_name', 'batch']\n",
      "\n",
      "Sample data (first 3 rows, selected columns):\n",
      " gas_type gas_name  batch  S01_F1_DR  S01_F2_DR_norm  S01_F3_EMAi_001\n",
      "        1  Ethanol      1 15596.1621        1.868245         2.371604\n",
      "        1  Ethanol      1 26402.0704        2.532401         5.411209\n",
      "        1  Ethanol      1 42103.5820        3.454189         8.198175\n"
     ]
    }
   ],
   "source": [
    "import pandas as pd\n",
    "import numpy as np\n",
    "from pathlib import Path\n",
    "import matplotlib.pyplot as plt\n",
    "import seaborn as sns\n",
    "\n",
    "# Set style for better visualizations\n",
    "plt.style.use('seaborn-v0_8-darkgrid')\n",
    "sns.set_palette(\"husl\")\n",
    "\n",
    "# Load data\n",
    "data_path = Path(\"../data/processed/sensor_data.csv\")\n",
    "df = pd.read_csv(data_path)\n",
    "\n",
    "# Basic Dataset Information\n",
    "print(\"=\"*60)\n",
    "print(\"DATASET OVERVIEW\")\n",
    "print(\"=\"*60)\n",
    "print(f\"Dataset shape: {df.shape[0]:,} rows × {df.shape[1]} columns\")\n",
    "print(f\"\\nMemory usage: {df.memory_usage(deep=True).sum() / 1024**2:.2f} MB\")\n",
    "\n",
    "# Data types distribution\n",
    "print(f\"\\nData types distribution:\")\n",
    "for dtype, count in df.dtypes.value_counts().items():\n",
    "    print(f\"  {dtype}: {count} columns\")\n",
    "\n",
    "# Column information\n",
    "print(\"\\nColumn categories:\")\n",
    "sensor_cols = [col for col in df.columns if col.startswith('S')]\n",
    "metadata_cols = [col for col in df.columns if col not in sensor_cols]\n",
    "print(f\"  Sensor features: {len(sensor_cols)} columns\")\n",
    "print(f\"  Metadata columns: {len(metadata_cols)} columns\")\n",
    "print(f\"  Metadata column names: {metadata_cols}\")\n",
    "\n",
    "# Display sample data\n",
    "print(\"\\nSample data (first 3 rows, selected columns):\")\n",
    "sample_cols = ['gas_type', 'gas_name', 'batch'] + sensor_cols[:3]\n",
    "print(df[sample_cols].head(3).to_string(index=False))"
   ]
  },
  {
   "cell_type": "markdown",
   "metadata": {},
   "source": [
    "Next, we'll check for potential data quality issues:\n",
    "\n",
    "- Missing values - Identify any null or NaN entries\n",
    "- Data types - Verify all sensor columns are numeric\n",
    "- Duplicates - Detect repeated samples that could bias analysis\n",
    "- Temporal consistency - Ensure batch labels are sequential and complete\n",
    "- Value ranges - Identify impossible values (e.g., negative sensor readings)\n",
    "- Sample balance - Verify adequate representation across gas types and concentrations\""
   ]
  },
  {
   "cell_type": "code",
   "execution_count": 16,
   "metadata": {},
   "outputs": [
    {
     "name": "stdout",
     "output_type": "stream",
     "text": [
      "Original dataset: 13,910 rows × 131 columns\n",
      "\n",
      "1. Missing Values: 0 total\n",
      "2. Non-numeric Sensor Columns:  All numeric ✓\n",
      "3. Duplicate Rows: 0\n",
      "4. Temporal Consistency:\n",
      "   Batches present: 1-10\n",
      "   Missing batches: None ✓\n",
      "5. Sensor Value Ranges:\n",
      "   Min: -23660.63\n",
      "   Max: 670687.35\n",
      "   Sensors with negative values: 64\n",
      "6. Sample Balance:\n",
      "   Gas types: 6 types\n",
      "   Min samples: 1641\n",
      "   Max samples: 3009\n",
      "   Imbalance ratio: 1.83:1\n"
     ]
    }
   ],
   "source": [
    "\n",
    "# Store original shape for comparison\n",
    "original_shape = df.shape\n",
    "print(f\"Original dataset: {original_shape[0]:,} rows × {original_shape[1]} columns\")\n",
    "\n",
    "# 1. Check for missing values\n",
    "missing_check = df.isnull().sum()\n",
    "print(f\"\\n1. Missing Values: {missing_check.sum()} total\")\n",
    "\n",
    "# 2. Data types check\n",
    "non_numeric_sensors = [col for col in sensor_cols \n",
    "                       if not pd.api.types.is_numeric_dtype(df[col])]\n",
    "print(f\"2. Non-numeric Sensor Columns: \",\n",
    "      f\"{non_numeric_sensors if non_numeric_sensors else 'All numeric ✓'}\")\n",
    "\n",
    "# 3. Check for duplicates\n",
    "duplicates = df.duplicated()\n",
    "print(f\"3. Duplicate Rows: {duplicates.sum()}\")\n",
    "\n",
    "# 4. Temporal consistency\n",
    "batch_values = sorted(df['batch'].unique())\n",
    "expected_batches = list(range(1, max(batch_values)+1))\n",
    "missing_batches = set(expected_batches) - set(batch_values)\n",
    "print(f\"4. Temporal Consistency:\")\n",
    "print(f\"   Batches present: {min(batch_values)}-{max(batch_values)}\")\n",
    "print(f\"   Missing batches: {list(missing_batches) if missing_batches else 'None ✓'}\")\n",
    "\n",
    "# 5. Value ranges\n",
    "sensor_data = df[sensor_cols]\n",
    "print(f\"5. Sensor Value Ranges:\")\n",
    "print(f\"   Min: {sensor_data.min().min():.2f}\")\n",
    "print(f\"   Max: {sensor_data.max().max():.2f}\")\n",
    "negative_sensors = (sensor_data < 0).any()\n",
    "print(f\"   Sensors with negative values: {negative_sensors.sum()}\")\n",
    "\n",
    "# 6. Sample balance\n",
    "gas_counts = df['gas_name'].value_counts()\n",
    "print(f\"6. Sample Balance:\")\n",
    "print(f\"   Gas types: {len(gas_counts)} types\")\n",
    "print(f\"   Min samples: {gas_counts.min()}\")\n",
    "print(f\"   Max samples: {gas_counts.max()}\")\n",
    "print(f\"   Imbalance ratio: {gas_counts.max() / gas_counts.min():.2f}:1\")\n"
   ]
  },
  {
   "cell_type": "markdown",
   "metadata": {},
   "source": [
    "Summary:\n",
    "\n",
    "- No missing values or duplicates\n",
    "- All sensor columns numeric\n",
    "- Complete temporal sequence (batches 1-10)\n",
    "- Good sample balance (1.83:1 ratio, adequate samples per class)\n",
    "\n",
    "Regarding negative sensor values: These are expected and scientifically meaningful, as documented by Vergara et al. (@vergara2012chemical): \"The sensor response to the same gas concentration changed significantly over time, with some sensors showing sensitivity decrease (negative drift) and others showing sensitivity increase (positive drift).\" Therefore, negative readings represent genuine drift phenomena rather than data errors and should be preserved in our analysis."
   ]
  },
  {
   "cell_type": "code",
   "execution_count": 28,
   "metadata": {},
   "outputs": [
    {
     "name": "stdout",
     "output_type": "stream",
     "text": [
      "FEATURE VARIANCE ANALYSIS\n",
      "========================================\n",
      "F1 (DR      ): 9.55e+08\n",
      "F2 (DR_norm ): 5.89e+03\n",
      "F3 (EMAi_001): 6.90e+01\n",
      "F4 (EMAi_01 ): 1.88e+02\n",
      "F5 (EMAi_1  ): 1.24e+03\n",
      "F6 (EMAd_001): 3.35e+01\n",
      "F7 (EMAd_01 ): 1.04e+02\n",
      "F8 (EMAd_1  ): 4.19e+03\n",
      "\n",
      "SENSOR HEALTH: 128/128 healthy\n"
     ]
    }
   ],
   "source": [
    "# Group features by type\n",
    "feature_types = {\n",
    "    'DR': [col for col in sensor_cols if 'F1_DR' in col],\n",
    "    'DR_norm': [col for col in sensor_cols if 'F2_DR_norm' in col],\n",
    "    'EMAi_001': [col for col in sensor_cols if 'F3_EMAi_001' in col],\n",
    "    'EMAi_01': [col for col in sensor_cols if 'F4_EMAi_01' in col],\n",
    "    'EMAi_1': [col for col in sensor_cols if 'F5_EMAi_1' in col],\n",
    "    'EMAd_001': [col for col in sensor_cols if 'F6_EMAd_001' in col],\n",
    "    'EMAd_01': [col for col in sensor_cols if 'F7_EMAd_01' in col],\n",
    "    'EMAd_1': [col for col in sensor_cols if 'F8_EMAd_1' in col]\n",
    "}\n",
    "\n",
    "# Variance analysis\n",
    "print(\"FEATURE VARIANCE ANALYSIS\")\n",
    "print(\"=\"*40)\n",
    "for i, (ftype, cols) in enumerate(feature_types.items(), 1):\n",
    "    print(f\"F{i} ({ftype:8s}): {df[cols].var().mean():.2e}\")\n",
    "\n",
    "# Sensor health\n",
    "print(f\"\\nSENSOR HEALTH: {(df[sensor_cols].var() > 0.001).sum()}/{len(sensor_cols)} healthy\")"
   ]
  },
  {
   "cell_type": "code",
   "execution_count": 29,
   "metadata": {},
   "outputs": [
    {
     "name": "stderr",
     "output_type": "stream",
     "text": [
      "/var/folders/m1/gp2h5jrd7plf98ydprnk51wm0000gn/T/ipykernel_61643/3446699494.py:11: UserWarning: set_ticklabels() should only be used with a fixed number of ticks, i.e. after set_ticks() or using a FixedLocator.\n",
      "  ax1.set_xticklabels([f'F{i+1}' for i in range(8)])\n"
     ]
    },
    {
     "data": {
      "image/png": "[encoded data removed]",
      "text/plain": [
       "<Figure size 1000x300 with 3 Axes>"
      ]
     },
     "metadata": {},
     "output_type": "display_data"
    }
   ],
   "source": [
    "# Visualization\n",
    "fig, (ax1, ax2) = plt.subplots(1, 2, figsize=(10, 3))\n",
    "\n",
    "# Variance by type\n",
    "means = [df[feature_types[ft]].var().mean() for ft in feature_types]\n",
    "ax1.bar(range(8), means, color=['red','orange'] + ['green']*3 + ['blue']*3, alpha=0.7)\n",
    "ax1.set_yscale('log')\n",
    "ax1.set_xlabel('Feature Type')\n",
    "ax1.set_ylabel('Mean Variance (log)')\n",
    "ax1.set_title('Variance by Feature Type')\n",
    "ax1.set_xticklabels([f'F{i+1}' for i in range(8)])\n",
    "\n",
    "# Heatmap\n",
    "variance_matrix = np.zeros((16, 8))\n",
    "for s in range(16):\n",
    "    for f in range(8):\n",
    "        col = f'S{s+1:02d}_F{f+1}_' + list(feature_types.keys())[f].split('_')[0]\n",
    "        matching = [c for c in sensor_cols if c.startswith(f'S{s+1:02d}_F{f+1}_')]\n",
    "        if matching:\n",
    "            variance_matrix[s, f] = df[matching[0]].var()\n",
    "\n",
    "im = ax2.imshow(variance_matrix, aspect='auto', cmap='YlOrRd', norm=plt.matplotlib.colors.LogNorm())\n",
    "ax2.set_xlabel('Feature')\n",
    "ax2.set_ylabel('Sensor')\n",
    "ax2.set_title('Variance Heatmap')\n",
    "plt.colorbar(im, ax=ax2, fraction=0.046, pad=0.04)\n",
    "plt.tight_layout()\n",
    "plt.show()"
   ]
  },
  {
   "cell_type": "markdown",
   "metadata": {},
   "source": [
    "### Data Quality Assessment\n",
    "\n",
    "Data quality assessment revealed no missing values, duplicates, or measurement errors requiring correction. The 64 sensors with negative values represent genuine drift phenomena (sensitivity decreases) documented by Vergara et al. (2012), not errors. "
   ]
  },
  {
   "cell_type": "markdown",
   "metadata": {},
   "source": [
    "## Exploratory Data Analysis"
   ]
  },
  {
   "cell_type": "markdown",
   "metadata": {},
   "source": [
    "### Target Variable Distribution"
   ]
  },
  {
   "cell_type": "code",
   "execution_count": 22,
   "metadata": {},
   "outputs": [],
   "source": [
    "# Example: Analyze target distribution\n",
    "# df['target'].value_counts()"
   ]
  },
  {
   "cell_type": "markdown",
   "metadata": {},
   "source": [
    "### Feature Analysis"
   ]
  },
  {
   "cell_type": "code",
   "execution_count": 23,
   "metadata": {},
   "outputs": [],
   "source": [
    "# Example visualization\n",
    "import matplotlib.pyplot as plt\n",
    "\n",
    "# Add your visualizations here"
   ]
  },
  {
   "cell_type": "markdown",
   "metadata": {},
   "source": [
    "## Models\n",
    "\n",
    "### Model Selection\n",
    "\n",
    "[Describe chosen models and rationale]\n",
    "\n",
    "### Hyperparameter Configuration\n",
    "\n",
    "[Document hyperparameter choices]"
   ]
  },
  {
   "cell_type": "markdown",
   "metadata": {},
   "source": [
    "## Training\n",
    "\n",
    "### Training Pipeline"
   ]
  },
  {
   "cell_type": "code",
   "execution_count": 24,
   "metadata": {},
   "outputs": [],
   "source": [
    "# Example: Model training\n",
    "from sklearn.model_selection import train_test_split\n",
    "\n",
    "# Split data\n",
    "# X_train, X_test, y_train, y_test = train_test_split(...)"
   ]
  },
  {
   "cell_type": "markdown",
   "metadata": {},
   "source": [
    "### Training Results\n",
    "\n",
    "[Present initial training metrics]"
   ]
  },
  {
   "cell_type": "markdown",
   "metadata": {},
   "source": [
    "## Evaluation\n",
    "\n",
    "### Performance Metrics"
   ]
  },
  {
   "cell_type": "code",
   "execution_count": 25,
   "metadata": {},
   "outputs": [],
   "source": [
    "# Example: Evaluation metrics\n",
    "# from sklearn.metrics import classification_report"
   ]
  },
  {
   "cell_type": "markdown",
   "metadata": {},
   "source": [
    "### Model Comparison\n",
    "\n",
    "[Compare different models' performance]"
   ]
  },
  {
   "cell_type": "markdown",
   "metadata": {},
   "source": [
    "## Conclusion and Next Steps\n",
    "\n",
    "### Project Summary\n",
    "\n",
    "[Summarize key findings]\n",
    "\n",
    "### Recommendations\n",
    "\n",
    "[Provide actionable recommendations]\n",
    "\n",
    "### Future Work\n",
    "\n",
    "[Outline potential improvements and extensions]"
   ]
  },
  {
   "cell_type": "markdown",
   "metadata": {},
   "source": [
    "## References\n",
    "\n",
    "[List relevant citations and data sources]"
   ]
  }
 ],
 "metadata": {
  "kernelspec": {
   "display_name": "Python 3",
   "language": "python",
   "name": "python3"
  },
  "language_info": {
   "codemirror_mode": {
    "name": "ipython",
    "version": 3
   },
   "file_extension": ".py",
   "mimetype": "text/x-python",
   "name": "python",
   "nbconvert_exporter": "python",
   "pygments_lexer": "ipython3",
   "version": "3.11.0"
  }
 },
 "nbformat": 4,
 "nbformat_minor": 4
}
